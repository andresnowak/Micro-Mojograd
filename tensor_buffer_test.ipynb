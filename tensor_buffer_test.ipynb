{
 "cells": [
  {
   "cell_type": "code",
   "execution_count": 1,
   "metadata": {},
   "outputs": [],
   "source": [
    "from tensor_g import TensorBuffer"
   ]
  },
  {
   "cell_type": "code",
   "execution_count": 2,
   "metadata": {},
   "outputs": [],
   "source": [
    "let a = TensorBuffer[DType.float32](True, 3, 4)\n"
   ]
  },
  {
   "cell_type": "code",
   "execution_count": 3,
   "metadata": {},
   "outputs": [
    {
     "name": "stdout",
     "output_type": "stream",
     "text": [
      "[[0.1315377950668335,0.458650141954422,0.21895918250083923,0.0],\n",
      "[4.4841550858394146e-44,0.0,2.3555827185300175e-42,0.0],\n",
      "[1.4012984643248171e-45,0.0,-7.8886880660370227e+18,4.5706152010882558e-41]]\n"
     ]
    }
   ],
   "source": [
    "a.print_all()"
   ]
  },
  {
   "cell_type": "code",
   "execution_count": 4,
   "metadata": {},
   "outputs": [
    {
     "name": "stdout",
     "output_type": "stream",
     "text": [
      "(4, 1, 0, 0, 0, 0, 0, 0, 0, 0, 0, 0)\n",
      "(3, 4, 0, 0, 0, 0, 0, 0, 0, 0, 0, 0)\n"
     ]
    }
   ],
   "source": [
    "print(a.strides())\n",
    "print(a.shape())"
   ]
  },
  {
   "cell_type": "code",
   "execution_count": 5,
   "metadata": {},
   "outputs": [
    {
     "name": "stdout",
     "output_type": "stream",
     "text": [
      "2.3555827185300175e-42\n"
     ]
    }
   ],
   "source": [
    "print(a[1, 2])"
   ]
  },
  {
   "cell_type": "code",
   "execution_count": 6,
   "metadata": {},
   "outputs": [
    {
     "name": "stdout",
     "output_type": "stream",
     "text": [
      "2.3555827185300175e-42\n"
     ]
    }
   ],
   "source": [
    "print(a.get_1d_item(6))"
   ]
  },
  {
   "cell_type": "code",
   "execution_count": 7,
   "metadata": {},
   "outputs": [
    {
     "name": "stdout",
     "output_type": "stream",
     "text": [
      "[0.21895918250083923, 4.4841550858394146e-44]\n",
      "0.21895918250083923\n"
     ]
    }
   ],
   "source": [
    "print(a.data.offset(2).simd_strided_load[2](2))\n",
    "print(a.get_1d_item(2))"
   ]
  },
  {
   "cell_type": "code",
   "execution_count": null,
   "metadata": {},
   "outputs": [],
   "source": []
  }
 ],
 "metadata": {
  "kernelspec": {
   "display_name": "Mojo",
   "language": "mojo",
   "name": "mojo-jupyter-kernel"
  },
  "language_info": {
   "codemirror_mode": {
    "name": "mojo"
   },
   "file_extension": ".mojo",
   "mimetype": "text/x-mojo",
   "name": "mojo"
  },
  "orig_nbformat": 4
 },
 "nbformat": 4,
 "nbformat_minor": 2
}
