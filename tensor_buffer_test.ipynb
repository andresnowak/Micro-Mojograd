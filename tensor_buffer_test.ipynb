{
 "cells": [
  {
   "cell_type": "code",
   "execution_count": 3,
   "metadata": {},
   "outputs": [],
   "source": [
    "from tensor_g import TensorBuffer"
   ]
  },
  {
   "cell_type": "code",
   "execution_count": 6,
   "metadata": {},
   "outputs": [],
   "source": [
    "let a = TensorBuffer[DType.float32](True, 3, 4)\n"
   ]
  },
  {
   "cell_type": "code",
   "execution_count": 7,
   "metadata": {},
   "outputs": [
    {
     "name": "stdout",
     "output_type": "stream",
     "text": [
      "[[0.67886471748352051,0.93469291925430298,0.51941639184951782,0.0],\n",
      "[4.4841550858394146e-44,0.0,1.7950633328000907e-42,0.0],\n",
      "[1.4012984643248171e-45,0.0,-1.4607508092012722e-08,4.5749592263276628e-41]]\n"
     ]
    }
   ],
   "source": [
    "a.print_all()"
   ]
  },
  {
   "cell_type": "code",
   "execution_count": 9,
   "metadata": {},
   "outputs": [
    {
     "name": "stdout",
     "output_type": "stream",
     "text": [
      "(12, 3, 1, 0, 0, 0, 0, 0, 0, 0, 0, 0)\n",
      "(3, 4, 3, 1081700968, 26, 1081701192, 1060, 1081700968, 26, 1081701224, 22, 1081700968)\n"
     ]
    }
   ],
   "source": [
    "print(a.strides())\n",
    "print(a.shape())"
   ]
  },
  {
   "cell_type": "code",
   "execution_count": 5,
   "metadata": {},
   "outputs": [
    {
     "name": "stdout",
     "output_type": "stream",
     "text": [
      "0.21895918250083923\n"
     ]
    }
   ],
   "source": [
    "print(a[0, 2])"
   ]
  },
  {
   "cell_type": "code",
   "execution_count": 6,
   "metadata": {},
   "outputs": [
    {
     "name": "stdout",
     "output_type": "stream",
     "text": [
      "8.0854921391541945e-43\n"
     ]
    }
   ],
   "source": [
    "print(a.get_1d_item(6))"
   ]
  },
  {
   "cell_type": "code",
   "execution_count": null,
   "metadata": {},
   "outputs": [],
   "source": []
  }
 ],
 "metadata": {
  "kernelspec": {
   "display_name": "Mojo",
   "language": "mojo",
   "name": "mojo-jupyter-kernel"
  },
  "language_info": {
   "codemirror_mode": {
    "name": "mojo"
   },
   "file_extension": ".mojo",
   "mimetype": "text/x-mojo",
   "name": "mojo"
  },
  "orig_nbformat": 4
 },
 "nbformat": 4,
 "nbformat_minor": 2
}
