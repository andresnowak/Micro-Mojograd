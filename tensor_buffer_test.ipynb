{
 "cells": [
  {
   "cell_type": "code",
   "execution_count": 1,
   "metadata": {},
   "outputs": [],
   "source": [
    "from tensor_g import TensorBuffer"
   ]
  },
  {
   "cell_type": "code",
   "execution_count": 2,
   "metadata": {},
   "outputs": [],
   "source": [
    "let a = TensorBuffer[DType.float32](True, 3, 4)\n"
   ]
  },
  {
   "cell_type": "code",
   "execution_count": 3,
   "metadata": {},
   "outputs": [
    {
     "name": "stdout",
     "output_type": "stream",
     "text": [
      "[[0.1315377950668335,0.458650141954422,0.21895918250083923,0.0],\n",
      "[4.4841550858394146e-44,0.0,1.0551777436365873e-42,0.0],\n",
      "[2163713792540672.0,7.0064923216240854e-45,-5.9313855699039027e+17,1.213959315016222e-11]]\n"
     ]
    }
   ],
   "source": [
    "a.print_all()"
   ]
  },
  {
   "cell_type": "code",
   "execution_count": 4,
   "metadata": {},
   "outputs": [
    {
     "name": "stdout",
     "output_type": "stream",
     "text": [
      "(4, 1, 0, 0, 0, 0, 0, 0, 0, 0, 0, 0)\n",
      "(3, 4, 1066, 1614185096, 26, 1614185320, 1060, 1614185096, 26, 1614185352, 22, 1614185096)\n"
     ]
    }
   ],
   "source": [
    "print(a.strides())\n",
    "print(a.shape())"
   ]
  },
  {
   "cell_type": "code",
   "execution_count": 5,
   "metadata": {},
   "outputs": [],
   "source": [
    "print(a[1, 2])"
   ]
  },
  {
   "cell_type": "code",
   "execution_count": null,
   "metadata": {},
   "outputs": [
    {
     "name": "stdout",
     "output_type": "stream",
     "text": [
      "8.0854921391541945e-43\n"
     ]
    }
   ],
   "source": [
    "print(a.get_1d_item(6))"
   ]
  },
  {
   "cell_type": "code",
   "execution_count": null,
   "metadata": {},
   "outputs": [],
   "source": []
  }
 ],
 "metadata": {
  "kernelspec": {
   "display_name": "Mojo",
   "language": "mojo",
   "name": "mojo-jupyter-kernel"
  },
  "language_info": {
   "codemirror_mode": {
    "name": "mojo"
   },
   "file_extension": ".mojo",
   "mimetype": "text/x-mojo",
   "name": "mojo"
  },
  "orig_nbformat": 4
 },
 "nbformat": 4,
 "nbformat_minor": 2
}
