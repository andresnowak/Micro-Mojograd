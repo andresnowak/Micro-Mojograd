{
 "cells": [
  {
   "cell_type": "code",
   "execution_count": 1,
   "metadata": {},
   "outputs": [],
   "source": [
    "from tensor_g import TensorG"
   ]
  },
  {
   "cell_type": "code",
   "execution_count": 2,
   "metadata": {},
   "outputs": [],
   "source": [
    "var a = TensorG[DType.float32](True, 2, 3)\n",
    "var b = TensorG[DType.float32](True, 2, 3)"
   ]
  },
  {
   "cell_type": "code",
   "execution_count": 3,
   "metadata": {},
   "outputs": [
    {
     "name": "stdout",
     "output_type": "stream",
     "text": [
      "[[0.1315377950668335,0.458650141954422,0.0],\n",
      "[0.0,5.0,0.0]]\n",
      "\n",
      "[[0.21895918250083923,0.67886471748352051,-1.1121903778108616e-22],\n",
      "[3.0883216855254643e-41,7.0,0.0]]\n"
     ]
    }
   ],
   "source": [
    "a[4] = 5.0\n",
    "b[4] = 7.0\n",
    "a.print_all()\n",
    "print()\n",
    "b.print_all()"
   ]
  },
  {
   "cell_type": "code",
   "execution_count": 4,
   "metadata": {},
   "outputs": [],
   "source": [
    "var c = a + b"
   ]
  },
  {
   "cell_type": "code",
   "execution_count": 5,
   "metadata": {},
   "outputs": [
    {
     "name": "stdout",
     "output_type": "stream",
     "text": [
      "[[0.35049697756767273,1.1375148296356201,-1.1121903778108616e-22],\n",
      "[0.0,12.0,0.0]]\n",
      "(2, 3, 0, 0, 0, 0, 0, 0, 0, 0, 0, 0)\n",
      "(3, 1, 0, 0, 0, 0, 0, 0, 0, 0, 0, 0)\n"
     ]
    }
   ],
   "source": [
    "c.print_all()\n",
    "\n",
    "print(c.shape())\n",
    "print(c.strides())\n",
    "\n",
    "_ = c"
   ]
  },
  {
   "cell_type": "code",
   "execution_count": 6,
   "metadata": {},
   "outputs": [
    {
     "name": "stdout",
     "output_type": "stream",
     "text": [
      "[[0.35049697756767273,0.0],\n",
      "[1.1375148296356201,12.0],\n",
      "[-1.1121903778108616e-22,0.0]]\n",
      "(3, 2, 0, 0, 0, 0, 0, 0, 0, 0, 0, 0)\n"
     ]
    }
   ],
   "source": [
    "let ct = c.transpose()\n",
    "ct.print_all()\n",
    "print(ct.shape())"
   ]
  },
  {
   "cell_type": "code",
   "execution_count": 7,
   "metadata": {},
   "outputs": [
    {
     "name": "stdout",
     "output_type": "stream",
     "text": [
      "[[0.35049697756767273,0.0],\n",
      "[1.1375148296356201,12.0],\n",
      "[-1.1121903778108616e-22,0.0]]\n",
      "(3, 2, 0, 0, 0, 0, 0, 0, 0, 0, 0, 0)\n"
     ]
    }
   ],
   "source": [
    "let ctt = c.permute(1, 0)\n",
    "ctt.print_all()\n",
    "print(ctt.shape())"
   ]
  },
  {
   "cell_type": "code",
   "execution_count": 10,
   "metadata": {},
   "outputs": [
    {
     "name": "stdout",
     "output_type": "stream",
     "text": [
      "[[0.68677270412445068,0.93043649196624756],\n",
      "[0.52692878246307373,3.0883216855254643e-41],\n",
      "[4.4841550858394146e-44,0.0]]\n",
      "\n",
      "[[1.0372697114944458,0.93043649196624756],\n",
      "[1.6644436120986938,12.0],\n",
      "[-1.1121903778108616e-22,0.0]]\n"
     ]
    }
   ],
   "source": [
    "let at = TensorG[DType.float32](True, 3, 2)\n",
    "at.print_all()\n",
    "\n",
    "print()\n",
    "let h = at + ctt\n",
    "h.print_all()"
   ]
  },
  {
   "cell_type": "code",
   "execution_count": null,
   "metadata": {},
   "outputs": [],
   "source": []
  }
 ],
 "metadata": {
  "kernelspec": {
   "display_name": "Mojo",
   "language": "mojo",
   "name": "mojo-jupyter-kernel"
  },
  "language_info": {
   "codemirror_mode": {
    "name": "mojo"
   },
   "file_extension": ".mojo",
   "mimetype": "text/x-mojo",
   "name": "mojo"
  }
 },
 "nbformat": 4,
 "nbformat_minor": 2
}
