{
 "cells": [
  {
   "cell_type": "code",
   "execution_count": 1,
   "metadata": {},
   "outputs": [],
   "source": [
    "from tensor_g import TensorG"
   ]
  },
  {
   "cell_type": "code",
   "execution_count": 2,
   "metadata": {},
   "outputs": [],
   "source": [
    "var a = TensorG[DType.float32](True, 2, 3)\n",
    "var b = TensorG[DType.float32](True, 2, 3)"
   ]
  },
  {
   "cell_type": "code",
   "execution_count": 3,
   "metadata": {},
   "outputs": [
    {
     "name": "stdout",
     "output_type": "stream",
     "text": [
      "[[0.1315377950668335,0.458650141954422,0.0],\n",
      "[0.0,4.4841550858394146e-44,0.0]]\n",
      "\n",
      "[[0.21895918250083923,0.67886471748352051,0.0],\n",
      "[0.0,4.4841550858394146e-44,0.0]]\n"
     ]
    }
   ],
   "source": [
    "a.print_all()\n",
    "print()\n",
    "b.print_all()"
   ]
  },
  {
   "cell_type": "code",
   "execution_count": 4,
   "metadata": {},
   "outputs": [],
   "source": [
    "var c = a + b"
   ]
  },
  {
   "cell_type": "code",
   "execution_count": 5,
   "metadata": {},
   "outputs": [
    {
     "name": "stdout",
     "output_type": "stream",
     "text": [
      "[[0.35049697756767273,1.1375148296356201,0.0],\n",
      "[0.0,8.9683101716788293e-44,0.0]]\n",
      "(2, 3, 0, 0, 0, 0, 0, 0, 0, 0, 0, 0)\n",
      "(3, 1, 0, 0, 0, 0, 0, 0, 0, 0, 0, 0)\n"
     ]
    }
   ],
   "source": [
    "c.print_all()\n",
    "\n",
    "print(c.shape())\n",
    "print(c.strides())"
   ]
  },
  {
   "cell_type": "code",
   "execution_count": 6,
   "metadata": {},
   "outputs": [
    {
     "name": "stdout",
     "output_type": "stream",
     "text": [
      "(1, 2)\n",
      "(3, 4)\n",
      "(3, 4)\n"
     ]
    }
   ],
   "source": [
    "var d = StaticIntTuple[2](1, 2)\n",
    "var e = StaticIntTuple[2](3, 4)\n",
    "\n",
    "print(d)\n",
    "d = e\n",
    "print(d)\n",
    "\n",
    "var k = d\n",
    "print(k)"
   ]
  },
  {
   "cell_type": "code",
   "execution_count": null,
   "metadata": {},
   "outputs": [],
   "source": []
  }
 ],
 "metadata": {
  "kernelspec": {
   "display_name": "Mojo",
   "language": "mojo",
   "name": "mojo-jupyter-kernel"
  },
  "language_info": {
   "codemirror_mode": {
    "name": "mojo"
   },
   "file_extension": ".mojo",
   "mimetype": "text/x-mojo",
   "name": "mojo"
  }
 },
 "nbformat": 4,
 "nbformat_minor": 2
}
