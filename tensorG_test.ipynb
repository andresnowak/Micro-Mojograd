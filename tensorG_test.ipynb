{
 "cells": [
  {
   "cell_type": "code",
   "execution_count": 1,
   "metadata": {},
   "outputs": [],
   "source": [
    "from tensor_g import TensorG"
   ]
  },
  {
   "cell_type": "code",
   "execution_count": 2,
   "metadata": {},
   "outputs": [],
   "source": [
    "var a = TensorG[DType.float32](True, 2, 3)\n",
    "var b = TensorG[DType.float32](True, 2, 3)"
   ]
  },
  {
   "cell_type": "code",
   "execution_count": 3,
   "metadata": {},
   "outputs": [
    {
     "name": "stdout",
     "output_type": "stream",
     "text": [
      "[[0.1315377950668335,0.458650141954422,0.21895918250083923],\n",
      "[0.67886471748352051,5.0,0.51941639184951782]]\n",
      "\n",
      "[[0.034572109580039978,0.52970021963119507,0.007698186207562685],\n",
      "[0.066842235624790192,7.0,0.93043649196624756]]\n"
     ]
    }
   ],
   "source": [
    "a[4] = 5.0\n",
    "b[4] = 7.0\n",
    "a.print_all()\n",
    "print()\n",
    "b.print_all()"
   ]
  },
  {
   "cell_type": "code",
   "execution_count": 4,
   "metadata": {},
   "outputs": [],
   "source": [
    "var c = a + b"
   ]
  },
  {
   "cell_type": "code",
   "execution_count": 5,
   "metadata": {},
   "outputs": [
    {
     "name": "stdout",
     "output_type": "stream",
     "text": [
      "[[0.16610990464687347,0.98835039138793945,0.22665737569332123],\n",
      "[0.74570697546005249,12.0,1.4498529434204102]]\n",
      "(2, 3, 0, 0, 0, 0, 0, 0, 0, 0, 0, 0)\n",
      "(3, 1, 0, 0, 0, 0, 0, 0, 0, 0, 0, 0)\n"
     ]
    }
   ],
   "source": [
    "c.print_all()\n",
    "\n",
    "print(c.shape())\n",
    "print(c.strides())\n",
    "\n",
    "_ = c"
   ]
  },
  {
   "cell_type": "code",
   "execution_count": 6,
   "metadata": {},
   "outputs": [
    {
     "name": "stdout",
     "output_type": "stream",
     "text": [
      "[[0.16610990464687347,0.74570697546005249],\n",
      "[0.98835039138793945,12.0],\n",
      "[0.22665737569332123,1.4498529434204102]]\n",
      "(3, 2, 0, 0, 0, 0, 0, 0, 0, 0, 0, 0)\n"
     ]
    }
   ],
   "source": [
    "let ct = c.transpose()\n",
    "ct.print_all()\n",
    "print(ct.shape())"
   ]
  },
  {
   "cell_type": "code",
   "execution_count": 7,
   "metadata": {},
   "outputs": [
    {
     "name": "stdout",
     "output_type": "stream",
     "text": [
      "[[0.16610990464687347,0.74570697546005249],\n",
      "[0.98835039138793945,12.0],\n",
      "[0.22665737569332123,1.4498529434204102]]\n",
      "(3, 2, 0, 0, 0, 0, 0, 0, 0, 0, 0, 0)\n"
     ]
    }
   ],
   "source": [
    "let ctt = c.permute(1, 0)\n",
    "ctt.print_all()\n",
    "print(ctt.shape())"
   ]
  },
  {
   "cell_type": "code",
   "execution_count": 8,
   "metadata": {},
   "outputs": [
    {
     "name": "stdout",
     "output_type": "stream",
     "text": [
      "[[0.52692878246307373,0.65391898155212402],\n",
      "[0.70119059085845947,0.76219803094863892],\n",
      "[0.047464512288570404,0.3282342255115509]]\n",
      "\n",
      "[[0.6930387020111084,1.3996260166168213],\n",
      "[1.6895409822463989,12.762198448181152],\n",
      "[0.27412188053131104,1.7780871391296387]]\n"
     ]
    }
   ],
   "source": [
    "let at = TensorG[DType.float32](True, 3, 2)\n",
    "at.print_all()\n",
    "\n",
    "print()\n",
    "let h = at + ctt\n",
    "h.print_all()"
   ]
  },
  {
   "cell_type": "code",
   "execution_count": null,
   "metadata": {},
   "outputs": [],
   "source": []
  }
 ],
 "metadata": {
  "kernelspec": {
   "display_name": "Mojo",
   "language": "mojo",
   "name": "mojo-jupyter-kernel"
  },
  "language_info": {
   "codemirror_mode": {
    "name": "mojo"
   },
   "file_extension": ".mojo",
   "mimetype": "text/x-mojo",
   "name": "mojo"
  }
 },
 "nbformat": 4,
 "nbformat_minor": 2
}
