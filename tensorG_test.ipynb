{
 "cells": [
  {
   "cell_type": "code",
   "execution_count": 1,
   "metadata": {},
   "outputs": [],
   "source": [
    "from tensor_g import TensorG"
   ]
  },
  {
   "cell_type": "code",
   "execution_count": 2,
   "metadata": {},
   "outputs": [],
   "source": [
    "var a = TensorG[DType.float32](True, 2, 3)\n",
    "var b = TensorG[DType.float32](True, 2, 3)"
   ]
  },
  {
   "cell_type": "code",
   "execution_count": 3,
   "metadata": {},
   "outputs": [
    {
     "name": "stdout",
     "output_type": "stream",
     "text": [
      "[[0.1315377950668335,0.458650141954422,0.0],\n",
      "[0.0,5.0,0.0]]\n",
      "\n",
      "[[0.21895918250083923,0.67886471748352051,-1.2934121324457582e+33],\n",
      "[3.0800540245859479e-41,7.0,0.0]]\n"
     ]
    }
   ],
   "source": [
    "a[4] = 5.0\n",
    "b[4] = 7.0\n",
    "a.print_all()\n",
    "print()\n",
    "b.print_all()"
   ]
  },
  {
   "cell_type": "code",
   "execution_count": 4,
   "metadata": {},
   "outputs": [],
   "source": [
    "var c = a + b"
   ]
  },
  {
   "cell_type": "code",
   "execution_count": 5,
   "metadata": {},
   "outputs": [
    {
     "name": "stdout",
     "output_type": "stream",
     "text": [
      "[[0.35049697756767273,1.1375148296356201,-1.2934121324457582e+33],\n",
      "[0.0,12.0,0.0]]\n",
      "(2, 3, 0, 0, 0, 0, 0, 0, 0, 0, 0, 0)\n",
      "(3, 1, 0, 0, 0, 0, 0, 0, 0, 0, 0, 0)\n"
     ]
    }
   ],
   "source": [
    "c.print_all()\n",
    "\n",
    "print(c.shape())\n",
    "print(c.strides())\n",
    "\n",
    "_ = c"
   ]
  },
  {
   "cell_type": "code",
   "execution_count": null,
   "metadata": {},
   "outputs": [],
   "source": []
  }
 ],
 "metadata": {
  "kernelspec": {
   "display_name": "Mojo",
   "language": "mojo",
   "name": "mojo-jupyter-kernel"
  },
  "language_info": {
   "codemirror_mode": {
    "name": "mojo"
   },
   "file_extension": ".mojo",
   "mimetype": "text/x-mojo",
   "name": "mojo"
  }
 },
 "nbformat": 4,
 "nbformat_minor": 2
}
